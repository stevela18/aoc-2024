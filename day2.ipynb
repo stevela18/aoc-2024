{
 "cells": [
  {
   "cell_type": "code",
   "execution_count": 1,
   "id": "dc2ef559-6ba0-4c8f-9ce9-abfa3c5764a1",
   "metadata": {},
   "outputs": [],
   "source": [
    "import pandas as pd\n",
    "import numpy as np"
   ]
  },
  {
   "cell_type": "code",
   "execution_count": 156,
   "id": "898cfdc7-6d96-4160-88dc-e924524513f1",
   "metadata": {},
   "outputs": [],
   "source": [
    "data = []\n",
    "with open(\"day2input.txt\", \"r\") as file:\n",
    "    for line in file:\n",
    "        d = np.array(line.strip().split(\" \"), dtype=int)\n",
    "        data.append(d)"
   ]
  },
  {
   "cell_type": "code",
   "execution_count": 157,
   "id": "f92e4ceb-5a0b-4829-b1d7-eecae5fa2695",
   "metadata": {},
   "outputs": [],
   "source": [
    "def is_increasing(a):\n",
    "    flag = True\n",
    "    i = 0\n",
    "    i_max = len(a)-2\n",
    "    result = False\n",
    "    while flag:\n",
    "        if a[i+1] <= a[i]:\n",
    "            flag = False\n",
    "        elif (i==i_max):\n",
    "            flag = False\n",
    "            result = True\n",
    "        i += 1\n",
    "    return result\n",
    "def is_decreasing(a):\n",
    "    a_reversed = a[::-1]\n",
    "    return is_increasing(a_reversed)\n",
    "def safe_difference(a):\n",
    "    flag = True\n",
    "    i = 0\n",
    "    i_max = len(a)-2\n",
    "    result = False\n",
    "    while flag:\n",
    "        diff = np.abs(a[i+1] - a[i])\n",
    "        if (diff<1)|(diff>3):\n",
    "            flag = False\n",
    "        elif (i==i_max):\n",
    "            flag = False\n",
    "            result=True\n",
    "        i += 1\n",
    "    return result\n",
    "        \n",
    "    \n",
    "def safe_report(a):\n",
    "    result = (is_increasing(a) | is_decreasing(a)) & safe_difference(a)\n",
    "    return result"
   ]
  },
  {
   "cell_type": "code",
   "execution_count": 196,
   "id": "aa750f7e-366a-46a5-a517-6e68feba4e33",
   "metadata": {},
   "outputs": [
    {
     "data": {
      "text/plain": [
       "483"
      ]
     },
     "execution_count": 196,
     "metadata": {},
     "output_type": "execute_result"
    }
   ],
   "source": [
    "# number of safe reports\n",
    "sum([safe_report(d) for d in data])"
   ]
  },
  {
   "cell_type": "code",
   "execution_count": 199,
   "id": "17544e67-b04d-43e9-baed-f44b2b7f352a",
   "metadata": {},
   "outputs": [],
   "source": [
    "def safe_report_dampener(a):\n",
    "    result = False\n",
    "    flag = True\n",
    "    if safe_report(a):\n",
    "        result = True\n",
    "    else:\n",
    "        i = 0\n",
    "        i_max = len(a)-1\n",
    "        while flag:\n",
    "            test_a = np.delete(a, i)\n",
    "            if safe_report(test_a):\n",
    "                flag = False\n",
    "                result = True\n",
    "            elif i==i_max:\n",
    "                flag = False\n",
    "            i +=1\n",
    "    return result"
   ]
  },
  {
   "cell_type": "code",
   "execution_count": 200,
   "id": "413acc92-b6b9-404f-b8b3-e4776ab5fd61",
   "metadata": {},
   "outputs": [
    {
     "data": {
      "text/plain": [
       "528"
      ]
     },
     "execution_count": 200,
     "metadata": {},
     "output_type": "execute_result"
    }
   ],
   "source": [
    "# number of safe reports with dampener\n",
    "sum([safe_report_dampener(d) for d in data])"
   ]
  },
  {
   "cell_type": "code",
   "execution_count": null,
   "id": "2d3dbfc6-019f-432e-acbf-e66fb2dca90b",
   "metadata": {},
   "outputs": [],
   "source": []
  }
 ],
 "metadata": {
  "kernelspec": {
   "display_name": "Python 3.12",
   "language": "python",
   "name": "py312"
  },
  "language_info": {
   "codemirror_mode": {
    "name": "ipython",
    "version": 3
   },
   "file_extension": ".py",
   "mimetype": "text/x-python",
   "name": "python",
   "nbconvert_exporter": "python",
   "pygments_lexer": "ipython3",
   "version": "3.12.7"
  }
 },
 "nbformat": 4,
 "nbformat_minor": 5
}
