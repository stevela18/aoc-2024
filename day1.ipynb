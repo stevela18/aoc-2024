{
 "cells": [
  {
   "cell_type": "code",
   "execution_count": 3,
   "id": "cfbfc628",
   "metadata": {},
   "outputs": [],
   "source": [
    "import pandas as pd\n",
    "import numpy as np"
   ]
  },
  {
   "cell_type": "code",
   "execution_count": 20,
   "id": "46076d7e",
   "metadata": {},
   "outputs": [],
   "source": [
    "data = np.genfromtxt(\"day1input.txt\", delimiter=\"   \", dtype=None, encoding=\"utf-8\")"
   ]
  },
  {
   "cell_type": "code",
   "execution_count": 24,
   "id": "58b753bd-6cc1-4967-84e8-b48c5785bc20",
   "metadata": {},
   "outputs": [],
   "source": [
    "distance = np.abs(np.sort(data[:,0]) - np.sort(data[:,1]))\n",
    "# distance\n",
    "sum(distance)"
   ]
  },
  {
   "cell_type": "code",
   "execution_count": null,
   "id": "f41580cd-c9f0-46ae-b4c1-fed0f48fdb11",
   "metadata": {},
   "outputs": [],
   "source": [
    "left_numbers = np.unique(data[:, 0])\n",
    "right_counts = np.array([sum(x==data[:, 1]) for x in left_numbers])\n",
    "# similarity\n",
    "sum(left_numbers * right_counts)"
   ]
  }
 ],
 "metadata": {
  "kernelspec": {
   "display_name": "Python 3.12",
   "language": "python",
   "name": "py312"
  },
  "language_info": {
   "codemirror_mode": {
    "name": "ipython",
    "version": 3
   },
   "file_extension": ".py",
   "mimetype": "text/x-python",
   "name": "python",
   "nbconvert_exporter": "python",
   "pygments_lexer": "ipython3",
   "version": "3.12.7"
  }
 },
 "nbformat": 4,
 "nbformat_minor": 5
}
