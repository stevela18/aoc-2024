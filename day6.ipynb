{
 "cells": [
  {
   "cell_type": "code",
   "execution_count": 5,
   "id": "8f728a6d-8d1e-42ab-a77d-ff1a08fc8698",
   "metadata": {},
   "outputs": [],
   "source": [
    "import numpy as np"
   ]
  },
  {
   "cell_type": "code",
   "execution_count": 6,
   "id": "f03351ab-0413-4406-a6e8-15811c71ce06",
   "metadata": {},
   "outputs": [],
   "source": [
    "example = \"\"\"....#.....\n",
    ".........#\n",
    "..........\n",
    "..#.......\n",
    ".......#..\n",
    "..........\n",
    ".#..^.....\n",
    "........#.\n",
    "#.........\n",
    "......#...\"\"\""
   ]
  },
  {
   "cell_type": "code",
   "execution_count": 7,
   "id": "6aa1b29b-9581-49d4-a55b-d7399ebea13e",
   "metadata": {},
   "outputs": [],
   "source": [
    "def string_to_array(s):\n",
    "    return np.array([list(x) for x in s.split()])"
   ]
  },
  {
   "cell_type": "code",
   "execution_count": 8,
   "id": "951f2792-5793-4c43-927d-c1b8eb0fdc5b",
   "metadata": {},
   "outputs": [],
   "source": [
    "example_array = string_to_array(example)"
   ]
  },
  {
   "cell_type": "code",
   "execution_count": 9,
   "id": "04ec077e-8d88-4bf0-bc8b-33a051d1bd66",
   "metadata": {},
   "outputs": [],
   "source": [
    "y_s, x_s = np.where(example_array==\"^\")"
   ]
  },
  {
   "cell_type": "code",
   "execution_count": 10,
   "id": "b5348675-63c9-4e7c-977e-541576bbf7cb",
   "metadata": {},
   "outputs": [],
   "source": [
    "def solve_map(s):\n",
    "    array = string_to_array(s)\n",
    "    # starting coords\n",
    "    y, x = np.where(array==\"^\")\n",
    "    array[y, x] = \"X\"\n",
    "    direction = \"u\"\n",
    "    y_max, x_max = array.shape\n",
    "    y_max += -1\n",
    "    x_max += -1\n",
    "    flag = True\n",
    "    while flag:\n",
    "        if direction == \"u\":\n",
    "            if array[y-1, x] == \"#\":\n",
    "                direction = \"r\"\n",
    "            else:\n",
    "                array[y, x] = \"X\"\n",
    "                y += -1\n",
    "        elif direction == \"r\":\n",
    "            if array[y, x+1] == \"#\":\n",
    "                direction = \"d\"\n",
    "            else:\n",
    "                array[y, x] = \"X\"\n",
    "                x += +1\n",
    "        elif direction == \"d\":\n",
    "            if array[y+1, x] == \"#\":\n",
    "                direction = \"l\"\n",
    "            else:\n",
    "                array[y, x] = \"X\"\n",
    "                y += 1\n",
    "        elif direction == \"l\":\n",
    "            if array[y, x-1] == \"#\":\n",
    "                direction = \"u\"\n",
    "            else:\n",
    "                array[y, x] = \"X\"\n",
    "                x += -1\n",
    "        if (x<0)|(y<0)|(x==x_max)|(y==y_max):\n",
    "            array[y, x] = \"X\"\n",
    "            flag = False\n",
    "    return array"
   ]
  },
  {
   "cell_type": "code",
   "execution_count": 11,
   "id": "db38b7da-a97d-4196-96cc-d7b932f1e5e9",
   "metadata": {},
   "outputs": [],
   "source": [
    "solved = solve_map(example)"
   ]
  },
  {
   "cell_type": "code",
   "execution_count": 12,
   "id": "a83810c5-91f0-4e5a-9602-7f4e8495d0f2",
   "metadata": {},
   "outputs": [
    {
     "data": {
      "text/plain": [
       "np.int64(41)"
      ]
     },
     "execution_count": 12,
     "metadata": {},
     "output_type": "execute_result"
    }
   ],
   "source": [
    "sum(sum(solved==\"X\"))"
   ]
  },
  {
   "cell_type": "code",
   "execution_count": 13,
   "id": "b0fee1f3-0558-4509-a918-b229d3fce634",
   "metadata": {},
   "outputs": [
    {
     "name": "stdout",
     "output_type": "stream",
     "text": [
      "5404\n"
     ]
    }
   ],
   "source": [
    "with open(\"day6input.txt\", \"r\") as file:\n",
    "    day6input = file.read()\n",
    "# part 1\n",
    "solved_map = solve_map(day6input)\n",
    "print(sum(sum(solved_map==\"X\")))"
   ]
  },
  {
   "cell_type": "code",
   "execution_count": null,
   "id": "dad2bc16-c6cc-4bae-948a-5689b488bb00",
   "metadata": {},
   "outputs": [],
   "source": []
  },
  {
   "cell_type": "code",
   "execution_count": 14,
   "id": "ec47f2ad-c09e-49b5-9c0b-dd657cd3d1bd",
   "metadata": {},
   "outputs": [],
   "source": [
    "def solve_map2(s):\n",
    "    array = string_to_array(s)\n",
    "    # starting coords\n",
    "    y, x = np.where(array==\"^\")\n",
    "    array[y, x] = \".\"\n",
    "    direction = \"u\"\n",
    "    y_max, x_max = array.shape\n",
    "    y_max += -1\n",
    "    x_max += -1\n",
    "    flag = True\n",
    "    start = True\n",
    "    while flag:\n",
    "        if direction == \"u\":\n",
    "            if array[y-1, x] == \"#\":\n",
    "                direction = \"r\"\n",
    "            else: \n",
    "                array[y, x] = \"|\" if array[y, x]==\".\" else \"+\"\n",
    "                y += -1\n",
    "        elif direction == \"r\":\n",
    "            if array[y, x+1] == \"#\":\n",
    "                direction = \"d\"\n",
    "            else:\n",
    "                array[y, x] = \"-\" if array[y, x]==\".\" else \"+\"\n",
    "                x += +1\n",
    "        elif direction == \"d\":\n",
    "            if array[y+1, x] == \"#\":\n",
    "                direction = \"l\"\n",
    "            else:\n",
    "                array[y, x] = \"|\" if array[y, x]==\".\" else \"+\"\n",
    "                y += 1\n",
    "        elif direction == \"l\":\n",
    "            if array[y, x-1] == \"#\":\n",
    "                direction = \"u\"\n",
    "            else:\n",
    "                array[y, x] = \"-\" if array[y, x]==\".\" else \"+\"\n",
    "                x += -1\n",
    "        if start:\n",
    "            array[y+1, x] = \".\"\n",
    "            start = False\n",
    "        if array[y,x] == \"+\":\n",
    "            [print(\"\".join(array[i])) for i in range(array.shape[0])]\n",
    "            return False\n",
    "        if (x<0)|(y<0)|(x==x_max)|(y==y_max):\n",
    "            array[y, x] = \"X\"\n",
    "            flag = False\n",
    "            \n",
    "    # [print(\"\".join(array[i])) for i in range(array.shape[0])]\n",
    "    return True"
   ]
  },
  {
   "cell_type": "code",
   "execution_count": 31,
   "id": "085f84b1-2d06-49a1-9bb1-3e847889306a",
   "metadata": {},
   "outputs": [],
   "source": [
    "def solve_map3(array):\n",
    "    # starting coords\n",
    "    y, x = np.where(array==\"^\")\n",
    "    array[y, x] = \"X\"\n",
    "    direction = \"u\"\n",
    "    y_max, x_max = array.shape\n",
    "    y_max += -1\n",
    "    x_max += -1\n",
    "    flag = True\n",
    "    while flag:\n",
    "        if direction == \"u\":\n",
    "            if array[y-1, x] == \"#\":\n",
    "                array[y-1, x] = \"u\"\n",
    "                direction = \"r\"\n",
    "            elif array[y-1, x] == direction:\n",
    "                # [print(\"\".join(array[i])) for i in range(array.shape[0])]\n",
    "                return False\n",
    "            else:\n",
    "                array[y, x] = \"X\"\n",
    "                y += -1\n",
    "        elif direction == \"r\":\n",
    "            if array[y, x+1] == \"#\":\n",
    "                array[y, x+1] = \"r\"\n",
    "                direction = \"d\"\n",
    "            elif array[y, x+1] == direction:\n",
    "                # [print(\"\".join(array[i])) for i in range(array.shape[0])]\n",
    "                return False\n",
    "            else:\n",
    "                array[y, x] = \"X\"\n",
    "                x += +1\n",
    "        elif direction == \"d\":\n",
    "            if array[y+1, x] == \"#\":\n",
    "                array[y+1, x] = \"d\"\n",
    "                direction = \"l\"\n",
    "            elif array[y+1, x] == direction:\n",
    "                # [print(\"\".join(array[i])) for i in range(array.shape[0])]\n",
    "                return False\n",
    "            else:\n",
    "                array[y, x] = \"X\"\n",
    "                y += 1\n",
    "        elif direction == \"l\":\n",
    "            if array[y, x-1] == \"#\":\n",
    "                array[y, x-1] = \"l\"\n",
    "                direction = \"u\"\n",
    "            elif array[y, x-1] == direction:\n",
    "                # [print(\"\".join(array[i])) for i in range(array.shape[0])]\n",
    "                return False\n",
    "            else:\n",
    "                array[y, x] = \"X\"\n",
    "                x += -1\n",
    "        if (x<0)|(y<0)|(x==x_max)|(y==y_max):\n",
    "            array[y, x] = \"X\"\n",
    "            flag = False\n",
    "    return True"
   ]
  },
  {
   "cell_type": "code",
   "execution_count": 27,
   "id": "207133d4-6501-44d9-b58b-ff63f6203e23",
   "metadata": {},
   "outputs": [],
   "source": [
    "from tqdm import tqdm"
   ]
  },
  {
   "cell_type": "code",
   "execution_count": 37,
   "id": "710d3fdb-c388-4159-b4b5-7a2fc9174cf6",
   "metadata": {},
   "outputs": [],
   "source": [
    "def task2(s):\n",
    "    count = 0\n",
    "    array = string_to_array(s)\n",
    "    for i in tqdm(range(array.shape[0])):\n",
    "        for j in range(array.shape[1]):\n",
    "            c = array[i, j]\n",
    "            if c == \".\":\n",
    "                array_copy = array.copy()\n",
    "                array_copy[i, j] = \"#\"\n",
    "                if not solve_map3(array_copy):\n",
    "                    count += 1\n",
    "    return count"
   ]
  },
  {
   "cell_type": "code",
   "execution_count": 38,
   "id": "2564753f-574a-4dc3-8b72-f7796ee03892",
   "metadata": {},
   "outputs": [
    {
     "name": "stdout",
     "output_type": "stream",
     "text": [
      "....#.....\n",
      ".........#\n",
      "..........\n",
      "..#.......\n",
      ".......#..\n",
      "..........\n",
      ".#..^.....\n",
      "........#.\n",
      "#.........\n",
      "......#...\n"
     ]
    },
    {
     "name": "stderr",
     "output_type": "stream",
     "text": [
      "\n",
      "00%|█████████████████████████████████████████████████████████████████████████████████████████████████████████████████████████████████████████████████████████| 10/10 [00:00<00:00, 169.82it/s]"
     ]
    },
    {
     "data": {
      "text/plain": [
       "6"
      ]
     },
     "execution_count": 38,
     "metadata": {},
     "output_type": "execute_result"
    }
   ],
   "source": [
    "print(example)\n",
    "task2(example)"
   ]
  },
  {
   "cell_type": "code",
   "execution_count": 39,
   "id": "f52a6a5d-904a-49a4-b6ac-3592bdb40cf3",
   "metadata": {},
   "outputs": [
    {
     "name": "stderr",
     "output_type": "stream",
     "text": [
      "\n",
      "00%|████████████████████████████████████████████████████████████████████████████████████████████████████████████████████████████████████████████████████████| 130/130 [18:40<00:00,  8.62s/it]"
     ]
    },
    {
     "data": {
      "text/plain": [
       "13906"
      ]
     },
     "execution_count": 39,
     "metadata": {},
     "output_type": "execute_result"
    }
   ],
   "source": [
    "task2(day6input)"
   ]
  },
  {
   "cell_type": "code",
   "execution_count": null,
   "id": "91744f64-d6e4-4b6d-b6e3-48d34b7301e9",
   "metadata": {},
   "outputs": [],
   "source": []
  }
 ],
 "metadata": {
  "kernelspec": {
   "display_name": "Python 3.12",
   "language": "python",
   "name": "py312"
  },
  "language_info": {
   "codemirror_mode": {
    "name": "ipython",
    "version": 3
   },
   "file_extension": ".py",
   "mimetype": "text/x-python",
   "name": "python",
   "nbconvert_exporter": "python",
   "pygments_lexer": "ipython3",
   "version": "3.13.0"
  }
 },
 "nbformat": 4,
 "nbformat_minor": 5
}
